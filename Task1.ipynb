{
 "cells": [
  {
   "cell_type": "code",
   "execution_count": null,
   "id": "63e9c682-c759-4a2d-8a50-9dbe5b168f4c",
   "metadata": {},
   "outputs": [],
   "source": [
    "# Task 1: Exploring and Visualizing a Simple Dataset\n",
    "\n",
    "#Objective:\n",
    "Learn how to load, inspect, and visualize a dataset to understand data trends and distributions.\n",
    "\n",
    "**Dataset:** Iris Dataset (available in seaborn)\n"
   ]
  },
  {
   "cell_type": "code",
   "execution_count": null,
   "id": "83cf8fba-b1d0-4071-912e-3c64f8561dde",
   "metadata": {},
   "outputs": [],
   "source": [
    "\n",
    "import pandas as pd\n",
    "import seaborn as sns\n",
    "import matplotlib.pyplot as plt\n",
    "\n",
    "%matplotlib inline\n"
   ]
  },
  {
   "cell_type": "code",
   "execution_count": null,
   "id": "721dd6cb-b6d2-43ea-8365-a438f51c8356",
   "metadata": {},
   "outputs": [],
   "source": [
    "# Step 1: Load the Dataset\n",
    "We will use the built-in Iris dataset available in seaborn.\n",
    "# Load the Iris dataset\n",
    "iris = sns.load_dataset('iris')\n",
    "\n",
    "# Display the first few rows\n",
    "iris.head()\n"
   ]
  },
  {
   "cell_type": "code",
   "execution_count": null,
   "id": "8cbbd4bc-75dc-4dbb-9da7-623944a35754",
   "metadata": {},
   "outputs": [],
   "source": [
    "## Step 2: Inspect the Dataset\n",
    "We will check the shape (rows, columns), column names, and the first few records.\n",
    "# Check dataset shape\n",
    "print(\"Shape of dataset:\", iris.shape)\n",
    "\n",
    "# Check column names\n",
    "print(\"\\nColumn names:\", iris.columns.tolist())\n",
    "\n",
    "# Display first 5 rows\n",
    "print(\"\\nFirst five rows:\")\n",
    "print(iris.head())\n"
   ]
  },
  {
   "cell_type": "code",
   "execution_count": null,
   "id": "7653dddd-e96a-4f36-88c5-9bfada83c843",
   "metadata": {},
   "outputs": [],
   "source": [
    "# Step 3: Summary Statistics\n",
    "We will use `.info()` to check data types and missing values, and `.describe()` for basic statistics.\n",
    "print(\"\\nDataset Info:\")\n",
    "print(iris.info())\n",
    "\n",
    "# Summary statistics\n",
    "print(\"\\nSummary Statistics:\")\n",
    "print(iris.describe())\n"
   ]
  },
  {
   "cell_type": "code",
   "execution_count": null,
   "id": "4ca63a59-909f-4afc-8a4f-e9c4e6d47c85",
   "metadata": {},
   "outputs": [],
   "source": [
    "\n",
    "We will create:\n",
    "- Scatter plot\n",
    "- Histogram\n",
    "- Box plot\n",
    "- Pair plot (optional)\n",
    "# Scatter plot: Sepal Length vs Sepal Width\n",
    "sns.scatterplot(x='sepal_length', y='sepal_width', hue='species', data=iris)\n",
    "plt.title(\"Sepal Length vs Sepal Width by Species\")\n",
    "plt.show()\n",
    "# Histogram of Sepal Length\n",
    "iris['sepal_length'].hist()\n",
    "plt.title(\"Distribution of Sepal Length\")\n",
    "plt.xlabel(\"Sepal Length\")\n",
    "plt.ylabel(\"Frequency\")\n",
    "plt.show()\n",
    "# Box plot of Sepal Length by Species\n",
    "sns.boxplot(x='species', y='sepal_length', data=iris)\n",
    "plt.title(\"Sepal Length by Species\")\n",
    "plt.show()\n",
    "# Pair plot for all features\n",
    "sns.pairplot(iris, hue='species')\n",
    "plt.show()\n",
    "\n"
   ]
  },
  {
   "cell_type": "code",
   "execution_count": null,
   "id": "a100d651-ff87-44d2-b34a-4696ca72334d",
   "metadata": {},
   "outputs": [],
   "source": [
    "# Step 5: Final Insights\n",
    " **Setosa** species has smallest petal size.\n",
    " **Virginica** species has largest petal size.\n",
    " Clear separation between species in pair plots.\n",
    " No missing values in the dataset.\n"
   ]
  }
 ],
 "metadata": {
  "kernelspec": {
   "display_name": "Python 3 (ipykernel)",
   "language": "python",
   "name": "python3"
  },
  "language_info": {
   "codemirror_mode": {
    "name": "ipython",
    "version": 3
   },
   "file_extension": ".py",
   "mimetype": "text/x-python",
   "name": "python",
   "nbconvert_exporter": "python",
   "pygments_lexer": "ipython3",
   "version": "3.13.5"
  }
 },
 "nbformat": 4,
 "nbformat_minor": 5
}
